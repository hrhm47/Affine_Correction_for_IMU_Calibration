{
 "cells": [
  {
   "cell_type": "code",
   "execution_count": 4,
   "id": "47cf115e-e846-4c21-b9ac-6cdf0898d524",
   "metadata": {},
   "outputs": [
    {
     "name": "stdout",
     "output_type": "stream",
     "text": [
      "Matrix A (Scale, Rotation, Shear):\n",
      "[[ 9.99403482e-01 -3.48925650e-02 -4.14321784e-05]\n",
      " [ 3.49460657e-02  9.99394058e-01 -1.28268353e-05]\n",
      " [ 3.41963584e-05 -3.71087408e-05  8.33230905e-01]]\n",
      "Vector b (Offset):\n",
      "[-0.19160864  0.3040108  -0.00317657]\n",
      "Sum-of-Squares Error (SSE): 0.07376304964818722\n",
      "\n",
      "Interpretation:\n",
      "- Offset (b): Corrects constant biases in measurements.\n",
      "- Scale (A): Adjusts the magnitude of measurements.\n",
      "- Rotation (A): Aligns measurement axes with ground truth.\n",
      "- Shear (A): Corrects inter-axis dependencies (non-orthogonality).\n"
     ]
    }
   ],
   "source": [
    "import numpy as np\n",
    "import pandas as pd\n",
    "\n",
    "# Load data\n",
    "try:\n",
    "    measurements = pd.read_csv(\"measurements.csv\").values\n",
    "    groundtruth = pd.read_csv(\"groundtruth.csv\").values\n",
    "except Exception as e:\n",
    "    print(f\"Error reading files: {e}\")\n",
    "    exit()\n",
    "\n",
    "# Validate data dimensions\n",
    "assert measurements.shape[1] == 3, \"Measurements must have 3 columns (3-axis accelerometer).\"\n",
    "assert groundtruth.shape[1] == 3, \"Ground truth must have 3 columns (3-axis accelerometer).\"\n",
    "\n",
    "# Augment measurements for affine correction\n",
    "n = measurements.shape[0]\n",
    "R_augmented = np.hstack([measurements, np.ones((n, 1))])  # Add bias term\n",
    "\n",
    "# Solve for A and b using least squares\n",
    "params, _, _, _ = np.linalg.lstsq(R_augmented, groundtruth, rcond=None)\n",
    "A = params[:3, :]  # 3x3 matrix\n",
    "b = params[3, :]   # 3x1 vector\n",
    "\n",
    "# Display results\n",
    "print(\"Matrix A (Scale, Rotation, Shear):\")\n",
    "print(A)\n",
    "print(\"Vector b (Offset):\")\n",
    "print(b)\n",
    "\n",
    "# Calculate sum-of-squares error (SSE)\n",
    "y_pred = measurements @ A + b\n",
    "sse = np.sum(np.square(groundtruth - y_pred))\n",
    "print(f\"Sum-of-Squares Error (SSE): {sse}\")\n",
    "\n",
    "# Comments on correction function\n",
    "print(\"\\nInterpretation:\")\n",
    "print(\"- Offset (b): Corrects constant biases in measurements.\")\n",
    "print(\"- Scale (A): Adjusts the magnitude of measurements.\")\n",
    "print(\"- Rotation (A): Aligns measurement axes with ground truth.\")\n",
    "print(\"- Shear (A): Corrects inter-axis dependencies (non-orthogonality).\")\n"
   ]
  },
  {
   "cell_type": "code",
   "execution_count": null,
   "id": "ec1f3210-4745-41a3-8760-de771790ad52",
   "metadata": {},
   "outputs": [],
   "source": []
  }
 ],
 "metadata": {
  "kernelspec": {
   "display_name": "Python (myenv)",
   "language": "python",
   "name": "myenv"
  },
  "language_info": {
   "codemirror_mode": {
    "name": "ipython",
    "version": 3
   },
   "file_extension": ".py",
   "mimetype": "text/x-python",
   "name": "python",
   "nbconvert_exporter": "python",
   "pygments_lexer": "ipython3",
   "version": "3.12.4"
  }
 },
 "nbformat": 4,
 "nbformat_minor": 5
}
